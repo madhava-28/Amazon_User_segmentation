{
 "cells": [
  {
   "cell_type": "code",
   "execution_count": 100,
   "id": "dbfab875",
   "metadata": {},
   "outputs": [],
   "source": [
    "import numpy as np\n",
    "import pandas as pd\n",
    "import matplotlib.pyplot as plt\n",
    "import seaborn as sns"
   ]
  },
  {
   "cell_type": "code",
   "execution_count": 101,
   "id": "83665cad",
   "metadata": {},
   "outputs": [
    {
     "data": {
      "text/html": [
       "<div>\n",
       "<style scoped>\n",
       "    .dataframe tbody tr th:only-of-type {\n",
       "        vertical-align: middle;\n",
       "    }\n",
       "\n",
       "    .dataframe tbody tr th {\n",
       "        vertical-align: top;\n",
       "    }\n",
       "\n",
       "    .dataframe thead th {\n",
       "        text-align: right;\n",
       "    }\n",
       "</style>\n",
       "<table border=\"1\" class=\"dataframe\">\n",
       "  <thead>\n",
       "    <tr style=\"text-align: right;\">\n",
       "      <th></th>\n",
       "      <th>Cus_ID</th>\n",
       "      <th>Sex</th>\n",
       "      <th>Age</th>\n",
       "      <th>Income</th>\n",
       "      <th>Rating</th>\n",
       "    </tr>\n",
       "  </thead>\n",
       "  <tbody>\n",
       "    <tr>\n",
       "      <th>0</th>\n",
       "      <td>301219</td>\n",
       "      <td>1</td>\n",
       "      <td>23</td>\n",
       "      <td>306555</td>\n",
       "      <td>44</td>\n",
       "    </tr>\n",
       "    <tr>\n",
       "      <th>1</th>\n",
       "      <td>301220</td>\n",
       "      <td>0</td>\n",
       "      <td>26</td>\n",
       "      <td>306555</td>\n",
       "      <td>91</td>\n",
       "    </tr>\n",
       "    <tr>\n",
       "      <th>2</th>\n",
       "      <td>301221</td>\n",
       "      <td>0</td>\n",
       "      <td>24</td>\n",
       "      <td>326992</td>\n",
       "      <td>7</td>\n",
       "    </tr>\n",
       "    <tr>\n",
       "      <th>3</th>\n",
       "      <td>301222</td>\n",
       "      <td>1</td>\n",
       "      <td>28</td>\n",
       "      <td>326992</td>\n",
       "      <td>87</td>\n",
       "    </tr>\n",
       "    <tr>\n",
       "      <th>4</th>\n",
       "      <td>301223</td>\n",
       "      <td>0</td>\n",
       "      <td>38</td>\n",
       "      <td>347429</td>\n",
       "      <td>45</td>\n",
       "    </tr>\n",
       "    <tr>\n",
       "      <th>...</th>\n",
       "      <td>...</td>\n",
       "      <td>...</td>\n",
       "      <td>...</td>\n",
       "      <td>...</td>\n",
       "      <td>...</td>\n",
       "    </tr>\n",
       "    <tr>\n",
       "      <th>195</th>\n",
       "      <td>301414</td>\n",
       "      <td>0</td>\n",
       "      <td>42</td>\n",
       "      <td>2452440</td>\n",
       "      <td>89</td>\n",
       "    </tr>\n",
       "    <tr>\n",
       "      <th>196</th>\n",
       "      <td>301415</td>\n",
       "      <td>0</td>\n",
       "      <td>54</td>\n",
       "      <td>2575062</td>\n",
       "      <td>32</td>\n",
       "    </tr>\n",
       "    <tr>\n",
       "      <th>197</th>\n",
       "      <td>301416</td>\n",
       "      <td>1</td>\n",
       "      <td>39</td>\n",
       "      <td>2575062</td>\n",
       "      <td>83</td>\n",
       "    </tr>\n",
       "    <tr>\n",
       "      <th>198</th>\n",
       "      <td>301417</td>\n",
       "      <td>1</td>\n",
       "      <td>39</td>\n",
       "      <td>2799869</td>\n",
       "      <td>21</td>\n",
       "    </tr>\n",
       "    <tr>\n",
       "      <th>199</th>\n",
       "      <td>301418</td>\n",
       "      <td>1</td>\n",
       "      <td>36</td>\n",
       "      <td>2799869</td>\n",
       "      <td>93</td>\n",
       "    </tr>\n",
       "  </tbody>\n",
       "</table>\n",
       "<p>200 rows × 5 columns</p>\n",
       "</div>"
      ],
      "text/plain": [
       "     Cus_ID  Sex  Age   Income  Rating\n",
       "0    301219    1   23   306555      44\n",
       "1    301220    0   26   306555      91\n",
       "2    301221    0   24   326992       7\n",
       "3    301222    1   28   326992      87\n",
       "4    301223    0   38   347429      45\n",
       "..      ...  ...  ...      ...     ...\n",
       "195  301414    0   42  2452440      89\n",
       "196  301415    0   54  2575062      32\n",
       "197  301416    1   39  2575062      83\n",
       "198  301417    1   39  2799869      21\n",
       "199  301418    1   36  2799869      93\n",
       "\n",
       "[200 rows x 5 columns]"
      ]
     },
     "execution_count": 101,
     "metadata": {},
     "output_type": "execute_result"
    }
   ],
   "source": [
    "df=pd.read_excel(\"Amazon reviews data set.xlsx\")\n",
    "\n",
    "from sklearn.preprocessing import LabelEncoder\n",
    "lb=LabelEncoder()\n",
    "df.iloc[:,1]=lb.fit_transform(df.iloc[:,1])\n",
    "df"
   ]
  },
  {
   "cell_type": "code",
   "execution_count": 102,
   "id": "c32293f8",
   "metadata": {},
   "outputs": [
    {
     "data": {
      "text/plain": [
       "array([[ 306555,      44],\n",
       "       [ 306555,      91],\n",
       "       [ 326992,       7],\n",
       "       [ 326992,      87],\n",
       "       [ 347429,      45],\n",
       "       [ 347429,      86],\n",
       "       [ 367866,       7],\n",
       "       [ 367866,     106],\n",
       "       [ 388303,       4],\n",
       "       [ 388303,      81],\n",
       "       [ 388303,      16],\n",
       "       [ 388303,     111],\n",
       "       [ 408740,      17],\n",
       "       [ 408740,      87],\n",
       "       [ 408740,      15],\n",
       "       [ 408740,      89],\n",
       "       [ 429177,      40],\n",
       "       [ 429177,      74],\n",
       "       [ 470051,      33],\n",
       "       [ 470051,     110],\n",
       "       [ 490488,      40],\n",
       "       [ 490488,      82],\n",
       "       [ 510925,       6],\n",
       "       [ 510925,      82],\n",
       "       [ 572236,      16],\n",
       "       [ 572236,      92],\n",
       "       [ 572236,      36],\n",
       "       [ 572236,      69],\n",
       "       [ 592673,      35],\n",
       "       [ 592673,      98],\n",
       "       [ 613110,       5],\n",
       "       [ 613110,      82],\n",
       "       [ 674421,       5],\n",
       "       [ 674421,     104],\n",
       "       [ 674421,      16],\n",
       "       [ 674421,      91],\n",
       "       [ 694858,      20],\n",
       "       [ 694858,      82],\n",
       "       [ 756169,      30],\n",
       "       [ 756169,      84],\n",
       "       [ 776606,      40],\n",
       "       [ 776606,     104],\n",
       "       [ 797043,      41],\n",
       "       [ 797043,      69],\n",
       "       [ 797043,      32],\n",
       "       [ 797043,      73],\n",
       "       [ 817480,      62],\n",
       "       [ 817480,      53],\n",
       "       [ 817480,      48],\n",
       "       [ 817480,      48],\n",
       "       [ 858354,      59],\n",
       "       [ 858354,      68],\n",
       "       [ 878791,      61],\n",
       "       [ 878791,      68],\n",
       "       [ 878791,      51],\n",
       "       [ 878791,      46],\n",
       "       [ 899228,      56],\n",
       "       [ 899228,      52],\n",
       "       [ 940102,      58],\n",
       "       [ 940102,      52],\n",
       "       [ 940102,      63],\n",
       "       [ 940102,      62],\n",
       "       [ 960539,      59],\n",
       "       [ 960539,      67],\n",
       "       [ 980976,      58],\n",
       "       [ 980976,      67],\n",
       "       [ 980976,      56],\n",
       "       [ 980976,      54],\n",
       "       [ 980976,      67],\n",
       "       [ 980976,      53],\n",
       "       [1001413,      62],\n",
       "       [1001413,      48],\n",
       "       [1021850,      55],\n",
       "       [1021850,      63],\n",
       "       [1103598,      53],\n",
       "       [1103598,      61],\n",
       "       [1103598,      60],\n",
       "       [1103598,      54],\n",
       "       [1103598,      59],\n",
       "       [1103598,      48],\n",
       "       [1103598,      58],\n",
       "       [1103598,      62],\n",
       "       [1103598,      46],\n",
       "       [1103598,      50],\n",
       "       [1103598,      64],\n",
       "       [1103598,      52],\n",
       "       [1164909,      65],\n",
       "       [1164909,      62],\n",
       "       [1185346,      68],\n",
       "       [1185346,      52],\n",
       "       [1205783,      62],\n",
       "       [1205783,      46],\n",
       "       [1226220,      55],\n",
       "       [1226220,      45],\n",
       "       [1226220,      48],\n",
       "       [1226220,      59],\n",
       "       [1226220,      53],\n",
       "       [1226220,      56],\n",
       "       [1246657,      48],\n",
       "       [1246657,      55],\n",
       "       [1267094,      46],\n",
       "       [1267094,      54],\n",
       "       [1267094,      67],\n",
       "       [1267094,      62],\n",
       "       [1267094,      63],\n",
       "       [1267094,      48],\n",
       "       [1287531,      56],\n",
       "       [1287531,      52],\n",
       "       [1287531,      49],\n",
       "       [1287531,      54],\n",
       "       [1287531,      59],\n",
       "       [1287531,      61],\n",
       "       [1307968,      48],\n",
       "       [1307968,      52],\n",
       "       [1328405,      54],\n",
       "       [1328405,      56],\n",
       "       [1328405,      49],\n",
       "       [1328405,      67],\n",
       "       [1369279,      49],\n",
       "       [1369279,      64],\n",
       "       [1369279,      63],\n",
       "       [1369279,      45],\n",
       "       [1410153,      65],\n",
       "       [1410153,     102],\n",
       "       [1430590,      33],\n",
       "       [1430590,      87],\n",
       "       [1451027,      40],\n",
       "       [1451027,     107],\n",
       "       [1451027,      13],\n",
       "       [1451027,      84],\n",
       "       [1451027,      11],\n",
       "       [1451027,      84],\n",
       "       [1471464,      39],\n",
       "       [1471464,      80],\n",
       "       [1491901,       6],\n",
       "       [1491901,      99],\n",
       "       [1491901,       8],\n",
       "       [1491901,      82],\n",
       "       [1512338,      12],\n",
       "       [1512338,      81],\n",
       "       [1532775,       6],\n",
       "       [1532775,     105],\n",
       "       [1553212,      45],\n",
       "       [1553212,      98],\n",
       "       [1573649,      14],\n",
       "       [1573649,     109],\n",
       "       [1573649,      41],\n",
       "       [1573649,      83],\n",
       "       [1594086,      25],\n",
       "       [1594086,     101],\n",
       "       [1594086,      20],\n",
       "       [1594086,      99],\n",
       "       [1594086,      23],\n",
       "       [1594086,      86],\n",
       "       [1594086,      18],\n",
       "       [1594086,     100],\n",
       "       [1594086,       2],\n",
       "       [1594086,      88],\n",
       "       [1594086,       2],\n",
       "       [1594086,      82],\n",
       "       [1614523,      40],\n",
       "       [1614523,      93],\n",
       "       [1655397,       6],\n",
       "       [1655397,     105],\n",
       "       [1737145,      30],\n",
       "       [1737145,      84],\n",
       "       [1757582,      23],\n",
       "       [1757582,     107],\n",
       "       [1778019,      31],\n",
       "       [1778019,      71],\n",
       "       [1778019,      15],\n",
       "       [1778019,      84],\n",
       "       [1778019,      12],\n",
       "       [1778019,     104],\n",
       "       [1798456,      15],\n",
       "       [1798456,      97],\n",
       "       [1798456,      17],\n",
       "       [1798456,      78],\n",
       "       [1900641,      16],\n",
       "       [1900641,     101],\n",
       "       [1982389,      36],\n",
       "       [1982389,      97],\n",
       "       [2002826,      17],\n",
       "       [2002826,      99],\n",
       "       [2023263,      44],\n",
       "       [2023263,     109],\n",
       "       [2064137,      27],\n",
       "       [2064137,      77],\n",
       "       [2105011,      20],\n",
       "       [2105011,      96],\n",
       "       [2105011,      26],\n",
       "       [2105011,      78],\n",
       "       [2309381,       9],\n",
       "       [2309381,     102],\n",
       "       [2452440,      18],\n",
       "       [2452440,      89],\n",
       "       [2575062,      32],\n",
       "       [2575062,      83],\n",
       "       [2799869,      21],\n",
       "       [2799869,      93]], dtype=int64)"
      ]
     },
     "execution_count": 102,
     "metadata": {},
     "output_type": "execute_result"
    }
   ],
   "source": [
    "#clustering using income \n",
    "x=df.iloc[0:,3:5].values\n",
    "x"
   ]
  },
  {
   "cell_type": "code",
   "execution_count": 103,
   "id": "2e32ab45",
   "metadata": {},
   "outputs": [
    {
     "name": "stderr",
     "output_type": "stream",
     "text": [
      "C:\\Users\\91630\\anaconda3\\lib\\site-packages\\sklearn\\cluster\\_kmeans.py:1036: UserWarning: KMeans is known to have a memory leak on Windows with MKL, when there are less chunks than available threads. You can avoid it by setting the environment variable OMP_NUM_THREADS=1.\n",
      "  warnings.warn(\n"
     ]
    }
   ],
   "source": [
    "from sklearn.cluster import KMeans\n",
    "wcss=[]\n",
    "for i in range(1,11):\n",
    "    kmeans=KMeans(n_clusters=i,init='k-means++',random_state=21)\n",
    "    kmeans.fit(x)\n",
    "    wcss.append(kmeans.inertia_)"
   ]
  },
  {
   "cell_type": "code",
   "execution_count": 104,
   "id": "5e3ccf29",
   "metadata": {},
   "outputs": [
    {
     "data": {
      "text/plain": [
       "[<matplotlib.lines.Line2D at 0x25f77bee640>]"
      ]
     },
     "execution_count": 104,
     "metadata": {},
     "output_type": "execute_result"
    },
    {
     "data": {
      "image/png": "[encoded data removed]",
      "text/plain": [
       "<Figure size 432x288 with 1 Axes>"
      ]
     },
     "metadata": {
      "needs_background": "light"
     },
     "output_type": "display_data"
    }
   ],
   "source": [
    "plt.plot(range(1,11),wcss)"
   ]
  },
  {
   "cell_type": "code",
   "execution_count": 105,
   "id": "c6e7eb08",
   "metadata": {},
   "outputs": [
    {
     "data": {
      "text/plain": [
       "array([1, 1, 1, 1, 1, 1, 1, 1, 1, 1, 1, 1, 1, 1, 1, 1, 1, 1, 1, 1, 1, 1,\n",
       "       1, 1, 1, 1, 1, 1, 1, 1, 1, 1, 1, 1, 1, 1, 1, 1, 1, 1, 1, 1, 1, 1,\n",
       "       1, 1, 1, 1, 1, 1, 0, 0, 0, 0, 0, 0, 0, 0, 0, 0, 0, 0, 0, 0, 0, 0,\n",
       "       0, 0, 0, 0, 0, 0, 0, 0, 0, 0, 0, 0, 0, 0, 0, 0, 0, 0, 0, 0, 0, 0,\n",
       "       0, 0, 0, 0, 0, 0, 0, 0, 0, 0, 0, 0, 0, 0, 0, 0, 0, 0, 0, 0, 0, 0,\n",
       "       0, 0, 0, 0, 0, 0, 0, 0, 3, 3, 3, 3, 3, 3, 3, 3, 3, 3, 3, 3, 3, 3,\n",
       "       3, 3, 3, 3, 3, 3, 3, 3, 3, 3, 3, 3, 3, 3, 3, 3, 3, 3, 3, 3, 3, 3,\n",
       "       3, 3, 3, 3, 3, 3, 3, 3, 3, 3, 3, 3, 3, 3, 3, 3, 3, 3, 3, 3, 3, 3,\n",
       "       3, 3, 3, 3, 2, 2, 2, 2, 2, 2, 2, 2, 2, 2, 2, 2, 2, 2, 2, 2, 2, 2,\n",
       "       2, 2])"
      ]
     },
     "execution_count": 105,
     "metadata": {},
     "output_type": "execute_result"
    }
   ],
   "source": [
    "kmeans=KMeans(n_clusters=4,init='k-means++',random_state=21)\n",
    "y_means=kmeans.fit_predict(x)\n",
    "y_means"
   ]
  },
  {
   "cell_type": "code",
   "execution_count": 106,
   "id": "c56ec828",
   "metadata": {},
   "outputs": [
    {
     "data": {
      "text/plain": [
       "Text(0, 0.5, 'rating')"
      ]
     },
     "execution_count": 106,
     "metadata": {},
     "output_type": "execute_result"
    },
    {
     "data": {
      "image/png": "[encoded data removed]",
      "text/plain": [
       "<Figure size 432x288 with 1 Axes>"
      ]
     },
     "metadata": {
      "needs_background": "light"
     },
     "output_type": "display_data"
    }
   ],
   "source": [
    "plt.scatter(x[y_means==0,0],x[y_means==0,1],color='magenta')\n",
    "plt.scatter(x[y_means==1,0],x[y_means==1,1],color='b')\n",
    "plt.scatter(x[y_means==2,0],x[y_means==2,1],color='r')\n",
    "plt.scatter(x[y_means==3,0],x[y_means==3,1],color='cyan')\n",
    "plt.scatter(kmeans.cluster_centers_[:,0],kmeans.cluster_centers_[:,1],s=300)\n",
    "\n",
    "plt.xlabel(\"Income\")\n",
    "plt.ylabel(\"rating\")"
   ]
  },
  {
   "cell_type": "code",
   "execution_count": null,
   "id": "af38c1df",
   "metadata": {},
   "outputs": [],
   "source": []
  },
  {
   "cell_type": "code",
   "execution_count": 107,
   "id": "54b82fae",
   "metadata": {},
   "outputs": [
    {
     "data": {
      "text/plain": [
       "array([[ 44,  23],\n",
       "       [ 91,  26],\n",
       "       [  7,  24],\n",
       "       [ 87,  28],\n",
       "       [ 45,  38],\n",
       "       [ 86,  27],\n",
       "       [  7,  42],\n",
       "       [106,  28],\n",
       "       [  4,  77],\n",
       "       [ 81,  36],\n",
       "       [ 16,  81],\n",
       "       [111,  42],\n",
       "       [ 17,  70],\n",
       "       [ 87,  29],\n",
       "       [ 15,  45],\n",
       "       [ 89,  27],\n",
       "       [ 40,  42],\n",
       "       [ 74,  24],\n",
       "       [ 33,  63],\n",
       "       [110,  42],\n",
       "       [ 40,  42],\n",
       "       [ 82,  30],\n",
       "       [  6,  56],\n",
       "       [ 82,  38],\n",
       "       [ 16,  65],\n",
       "       [ 92,  35],\n",
       "       [ 36,  54],\n",
       "       [ 69,  42],\n",
       "       [ 35,  48],\n",
       "       [ 98,  28],\n",
       "       [  5,  72],\n",
       "       [ 82,  26],\n",
       "       [  5,  64],\n",
       "       [104,  22],\n",
       "       [ 16,  59],\n",
       "       [ 91,  26],\n",
       "       [ 20,  51],\n",
       "       [ 82,  36],\n",
       "       [ 30,  44],\n",
       "       [ 84,  24],\n",
       "       [ 40,  78],\n",
       "       [104,  29],\n",
       "       [ 41,  58],\n",
       "       [ 69,  38],\n",
       "       [ 32,  59],\n",
       "       [ 73,  29],\n",
       "       [ 62,  60],\n",
       "       [ 53,  33],\n",
       "       [ 48,  35],\n",
       "       [ 48,  38],\n",
       "       [ 59,  59],\n",
       "       [ 68,  40],\n",
       "       [ 61,  38],\n",
       "       [ 68,  71],\n",
       "       [ 51,  60],\n",
       "       [ 46,  57],\n",
       "       [ 56,  62],\n",
       "       [ 52,  83],\n",
       "       [ 58,  33],\n",
       "       [ 52,  64],\n",
       "       [ 63,  84],\n",
       "       [ 62,  23],\n",
       "       [ 59,  81],\n",
       "       [ 67,  65],\n",
       "       [ 58,  76],\n",
       "       [ 67,  22],\n",
       "       [ 56,  52],\n",
       "       [ 54,  82],\n",
       "       [ 67,  23],\n",
       "       [ 53,  39],\n",
       "       [ 62,  84],\n",
       "       [ 48,  57],\n",
       "       [ 55,  72],\n",
       "       [ 63,  72],\n",
       "       [ 53,  71],\n",
       "       [ 61,  32],\n",
       "       [ 60,  54],\n",
       "       [ 54,  48],\n",
       "       [ 59,  28],\n",
       "       [ 48,  59],\n",
       "       [ 58,  69],\n",
       "       [ 62,  46],\n",
       "       [ 46,  81],\n",
       "       [ 50,  56],\n",
       "       [ 64,  26],\n",
       "       [ 52,  58],\n",
       "       [ 65,  66],\n",
       "       [ 62,  27],\n",
       "       [ 68,  41],\n",
       "       [ 52,  60],\n",
       "       [ 62,  82],\n",
       "       [ 46,  22],\n",
       "       [ 55,  58],\n",
       "       [ 45,  48],\n",
       "       [ 48,  39],\n",
       "       [ 59,  29],\n",
       "       [ 53,  57],\n",
       "       [ 56,  33],\n",
       "       [ 48,  58],\n",
       "       [ 55,  24],\n",
       "       [ 46,  28],\n",
       "       [ 54,  59],\n",
       "       [ 67,  81],\n",
       "       [ 62,  32],\n",
       "       [ 63,  59],\n",
       "       [ 48,  26],\n",
       "       [ 56,  80],\n",
       "       [ 52,  65],\n",
       "       [ 49,  82],\n",
       "       [ 54,  80],\n",
       "       [ 59,  78],\n",
       "       [ 61,  23],\n",
       "       [ 48,  46],\n",
       "       [ 52,  23],\n",
       "       [ 54,  22],\n",
       "       [ 56,  23],\n",
       "       [ 49,  76],\n",
       "       [ 67,  59],\n",
       "       [ 49,  62],\n",
       "       [ 64,  60],\n",
       "       [ 63,  33],\n",
       "       [ 45,  46],\n",
       "       [ 65,  48],\n",
       "       [102,  47],\n",
       "       [ 33,  28],\n",
       "       [ 87,  38],\n",
       "       [ 40,  52],\n",
       "       [107,  48],\n",
       "       [ 13,  71],\n",
       "       [ 84,  46],\n",
       "       [ 11,  57],\n",
       "       [ 84,  47],\n",
       "       [ 39,  30],\n",
       "       [ 80,  38],\n",
       "       [  6,  24],\n",
       "       [ 99,  35],\n",
       "       [  8,  53],\n",
       "       [ 82,  39],\n",
       "       [ 12,  23],\n",
       "       [ 81,  42],\n",
       "       [  6,  69],\n",
       "       [105,  39],\n",
       "       [ 45,  34],\n",
       "       [ 98,  39],\n",
       "       [ 14,  30],\n",
       "       [109,  34],\n",
       "       [ 41,  58],\n",
       "       [ 83,  39],\n",
       "       [ 25,  41],\n",
       "       [101,  41],\n",
       "       [ 20,  52],\n",
       "       [ 99,  47],\n",
       "       [ 23,  53],\n",
       "       [ 86,  46],\n",
       "       [ 18,  57],\n",
       "       [100,  33],\n",
       "       [  2,  45],\n",
       "       [ 88,  36],\n",
       "       [  2,  41],\n",
       "       [ 82,  36],\n",
       "       [ 40,  68],\n",
       "       [ 93,  35],\n",
       "       [  6,  23],\n",
       "       [105,  38],\n",
       "       [ 30,  60],\n",
       "       [ 84,  44],\n",
       "       [ 23,  51],\n",
       "       [107,  40],\n",
       "       [ 31,  44],\n",
       "       [ 71,  39],\n",
       "       [ 15,  48],\n",
       "       [ 84,  34],\n",
       "       [ 12,  44],\n",
       "       [104,  44],\n",
       "       [ 15,  63],\n",
       "       [ 97,  36],\n",
       "       [ 17,  70],\n",
       "       [ 78,  33],\n",
       "       [ 16,  71],\n",
       "       [101,  42],\n",
       "       [ 36,  45],\n",
       "       [ 97,  39],\n",
       "       [ 17,  56],\n",
       "       [ 99,  35],\n",
       "       [ 44,  50],\n",
       "       [109,  36],\n",
       "       [ 27,  65],\n",
       "       [ 77,  34],\n",
       "       [ 20,  50],\n",
       "       [ 96,  44],\n",
       "       [ 26,  41],\n",
       "       [ 78,  39],\n",
       "       [  9,  40],\n",
       "       [102,  46],\n",
       "       [ 18,  57],\n",
       "       [ 89,  42],\n",
       "       [ 32,  54],\n",
       "       [ 83,  39],\n",
       "       [ 21,  39],\n",
       "       [ 93,  36]], dtype=int64)"
      ]
     },
     "execution_count": 107,
     "metadata": {},
     "output_type": "execute_result"
    }
   ],
   "source": [
    "#clustering using age \n",
    "y=df.iloc[0:,4].values.reshape(-1,1)\n",
    "z=df.iloc[0:,2].values.reshape(-1,1)\n",
    "x=np.concatenate([y,z],axis=1)\n",
    "x"
   ]
  },
  {
   "cell_type": "code",
   "execution_count": 108,
   "id": "96269d78",
   "metadata": {},
   "outputs": [
    {
     "name": "stderr",
     "output_type": "stream",
     "text": [
      "C:\\Users\\91630\\anaconda3\\lib\\site-packages\\sklearn\\cluster\\_kmeans.py:1036: UserWarning: KMeans is known to have a memory leak on Windows with MKL, when there are less chunks than available threads. You can avoid it by setting the environment variable OMP_NUM_THREADS=1.\n",
      "  warnings.warn(\n"
     ]
    }
   ],
   "source": [
    "from sklearn.cluster import KMeans\n",
    "wcss=[]\n",
    "for i in range(1,11):\n",
    "    kmeans=KMeans(n_clusters=i,init='k-means++',random_state=21)\n",
    "    kmeans.fit(x)\n",
    "    wcss.append(kmeans.inertia_)"
   ]
  },
  {
   "cell_type": "code",
   "execution_count": 109,
   "id": "3f5923f8",
   "metadata": {},
   "outputs": [
    {
     "data": {
      "text/plain": [
       "array([0, 1, 3, 1, 0, 1, 3, 1, 3, 1, 3, 1, 3, 1, 3, 1, 0, 0, 3, 1, 0, 1,\n",
       "       3, 1, 3, 1, 3, 0, 3, 1, 3, 1, 3, 1, 3, 1, 3, 1, 3, 1, 2, 1, 2, 0,\n",
       "       3, 0, 2, 0, 0, 0, 2, 0, 0, 2, 2, 2, 2, 2, 0, 2, 2, 0, 2, 2, 2, 0,\n",
       "       2, 2, 0, 0, 2, 2, 2, 2, 2, 0, 2, 0, 0, 2, 2, 0, 2, 2, 0, 2, 2, 0,\n",
       "       0, 2, 2, 0, 2, 0, 0, 0, 2, 0, 2, 0, 0, 2, 2, 0, 2, 0, 2, 2, 2, 2,\n",
       "       2, 0, 0, 0, 0, 0, 2, 2, 2, 2, 0, 0, 0, 1, 0, 1, 2, 1, 3, 1, 3, 1,\n",
       "       0, 1, 3, 1, 3, 1, 3, 1, 3, 1, 0, 1, 3, 1, 2, 1, 3, 1, 3, 1, 3, 1,\n",
       "       3, 1, 3, 1, 3, 1, 2, 1, 3, 1, 3, 1, 3, 1, 3, 0, 3, 1, 3, 1, 3, 1,\n",
       "       3, 1, 3, 1, 3, 1, 3, 1, 2, 1, 3, 1, 3, 1, 3, 1, 3, 1, 3, 1, 3, 1,\n",
       "       3, 1])"
      ]
     },
     "execution_count": 109,
     "metadata": {},
     "output_type": "execute_result"
    }
   ],
   "source": [
    "kmeans=KMeans(n_clusters=4,init='k-means++',random_state=21)\n",
    "y_means=kmeans.fit_predict(x)\n",
    "y_means"
   ]
  },
  {
   "cell_type": "code",
   "execution_count": 110,
   "id": "74b9e43d",
   "metadata": {},
   "outputs": [
    {
     "data": {
      "text/plain": [
       "Text(0, 0.5, 'rating')"
      ]
     },
     "execution_count": 110,
     "metadata": {},
     "output_type": "execute_result"
    },
    {
     "data": {
      "image/png": "[encoded data removed]",
      "text/plain": [
       "<Figure size 432x288 with 1 Axes>"
      ]
     },
     "metadata": {
      "needs_background": "light"
     },
     "output_type": "display_data"
    }
   ],
   "source": [
    "plt.scatter(x[y_means==0,0],x[y_means==0,1],color='magenta',label='cluster1')\n",
    "plt.scatter(x[y_means==1,0],x[y_means==1,1],color='b',label='cluster2')\n",
    "plt.scatter(x[y_means==2,0],x[y_means==2,1],color='r',label='cluster3')\n",
    "plt.scatter(x[y_means==3,0],x[y_means==3,1],color='cyan',label='cluster4')\n",
    "plt.scatter(kmeans.cluster_centers_[:,0],kmeans.cluster_centers_[:,1],s=300)\n",
    "plt.xlabel(\"Income\")\n",
    "plt.ylabel(\"rating\")"
   ]
  },
  {
   "cell_type": "code",
   "execution_count": 111,
   "id": "fc247e52",
   "metadata": {},
   "outputs": [
    {
     "data": {
      "text/plain": [
       "array([[55.7826087 , 33.17391304],\n",
       "       [92.66666667, 36.57894737],\n",
       "       [54.32653061, 66.83673469],\n",
       "       [17.3125    , 52.3125    ]])"
      ]
     },
     "execution_count": 111,
     "metadata": {},
     "output_type": "execute_result"
    }
   ],
   "source": [
    "kmeans.cluster_centers_[:,:]"
   ]
  },
  {
   "cell_type": "code",
   "execution_count": 112,
   "id": "dbbf0bdf",
   "metadata": {},
   "outputs": [
    {
     "data": {
      "text/plain": [
       "array([[ 44,   1],\n",
       "       [ 91,   0],\n",
       "       [  7,   0],\n",
       "       [ 87,   1],\n",
       "       [ 45,   0],\n",
       "       [ 86,   0],\n",
       "       [  7,   0],\n",
       "       [106,   0],\n",
       "       [  4,   1],\n",
       "       [ 81,   0],\n",
       "       [ 16,   1],\n",
       "       [111,   0],\n",
       "       [ 17,   0],\n",
       "       [ 87,   0],\n",
       "       [ 15,   1],\n",
       "       [ 89,   1],\n",
       "       [ 40,   0],\n",
       "       [ 74,   1],\n",
       "       [ 33,   1],\n",
       "       [110,   0],\n",
       "       [ 40,   1],\n",
       "       [ 82,   1],\n",
       "       [  6,   0],\n",
       "       [ 82,   1],\n",
       "       [ 16,   0],\n",
       "       [ 92,   1],\n",
       "       [ 36,   0],\n",
       "       [ 69,   1],\n",
       "       [ 35,   0],\n",
       "       [ 98,   0],\n",
       "       [  5,   1],\n",
       "       [ 82,   0],\n",
       "       [  5,   1],\n",
       "       [104,   1],\n",
       "       [ 16,   0],\n",
       "       [ 91,   0],\n",
       "       [ 20,   0],\n",
       "       [ 82,   0],\n",
       "       [ 30,   0],\n",
       "       [ 84,   0],\n",
       "       [ 40,   0],\n",
       "       [104,   1],\n",
       "       [ 41,   1],\n",
       "       [ 69,   0],\n",
       "       [ 32,   0],\n",
       "       [ 73,   0],\n",
       "       [ 62,   0],\n",
       "       [ 53,   0],\n",
       "       [ 48,   0],\n",
       "       [ 48,   0],\n",
       "       [ 59,   0],\n",
       "       [ 68,   1],\n",
       "       [ 61,   0],\n",
       "       [ 68,   1],\n",
       "       [ 51,   0],\n",
       "       [ 46,   1],\n",
       "       [ 56,   0],\n",
       "       [ 52,   1],\n",
       "       [ 58,   0],\n",
       "       [ 52,   1],\n",
       "       [ 63,   1],\n",
       "       [ 62,   1],\n",
       "       [ 59,   0],\n",
       "       [ 67,   0],\n",
       "       [ 58,   1],\n",
       "       [ 67,   1],\n",
       "       [ 56,   0],\n",
       "       [ 54,   0],\n",
       "       [ 67,   1],\n",
       "       [ 53,   0],\n",
       "       [ 62,   1],\n",
       "       [ 48,   0],\n",
       "       [ 55,   0],\n",
       "       [ 63,   0],\n",
       "       [ 53,   1],\n",
       "       [ 61,   1],\n",
       "       [ 60,   0],\n",
       "       [ 54,   1],\n",
       "       [ 59,   0],\n",
       "       [ 48,   0],\n",
       "       [ 58,   1],\n",
       "       [ 62,   1],\n",
       "       [ 46,   1],\n",
       "       [ 50,   0],\n",
       "       [ 64,   0],\n",
       "       [ 52,   1],\n",
       "       [ 65,   0],\n",
       "       [ 62,   0],\n",
       "       [ 68,   0],\n",
       "       [ 52,   0],\n",
       "       [ 62,   0],\n",
       "       [ 46,   1],\n",
       "       [ 55,   1],\n",
       "       [ 45,   0],\n",
       "       [ 48,   0],\n",
       "       [ 59,   1],\n",
       "       [ 53,   0],\n",
       "       [ 56,   0],\n",
       "       [ 48,   1],\n",
       "       [ 55,   1],\n",
       "       [ 46,   0],\n",
       "       [ 54,   0],\n",
       "       [ 67,   1],\n",
       "       [ 62,   1],\n",
       "       [ 63,   1],\n",
       "       [ 48,   0],\n",
       "       [ 56,   0],\n",
       "       [ 52,   1],\n",
       "       [ 49,   1],\n",
       "       [ 54,   1],\n",
       "       [ 59,   1],\n",
       "       [ 61,   0],\n",
       "       [ 48,   0],\n",
       "       [ 52,   1],\n",
       "       [ 54,   0],\n",
       "       [ 56,   0],\n",
       "       [ 49,   0],\n",
       "       [ 67,   0],\n",
       "       [ 49,   0],\n",
       "       [ 64,   0],\n",
       "       [ 63,   1],\n",
       "       [ 45,   0],\n",
       "       [ 65,   0],\n",
       "       [102,   1],\n",
       "       [ 33,   0],\n",
       "       [ 87,   0],\n",
       "       [ 40,   1],\n",
       "       [107,   1],\n",
       "       [ 13,   1],\n",
       "       [ 84,   1],\n",
       "       [ 11,   1],\n",
       "       [ 84,   1],\n",
       "       [ 39,   0],\n",
       "       [ 80,   0],\n",
       "       [  6,   1],\n",
       "       [ 99,   0],\n",
       "       [  8,   0],\n",
       "       [ 82,   1],\n",
       "       [ 12,   1],\n",
       "       [ 81,   0],\n",
       "       [  6,   0],\n",
       "       [105,   1],\n",
       "       [ 45,   0],\n",
       "       [ 98,   0],\n",
       "       [ 14,   1],\n",
       "       [109,   1],\n",
       "       [ 41,   1],\n",
       "       [ 83,   0],\n",
       "       [ 25,   0],\n",
       "       [101,   1],\n",
       "       [ 20,   1],\n",
       "       [ 99,   1],\n",
       "       [ 23,   0],\n",
       "       [ 86,   0],\n",
       "       [ 18,   0],\n",
       "       [100,   0],\n",
       "       [  2,   1],\n",
       "       [ 88,   0],\n",
       "       [  2,   1],\n",
       "       [ 82,   0],\n",
       "       [ 40,   0],\n",
       "       [ 93,   0],\n",
       "       [  6,   1],\n",
       "       [105,   0],\n",
       "       [ 30,   1],\n",
       "       [ 84,   0],\n",
       "       [ 23,   1],\n",
       "       [107,   0],\n",
       "       [ 31,   0],\n",
       "       [ 71,   1],\n",
       "       [ 15,   1],\n",
       "       [ 84,   1],\n",
       "       [ 12,   1],\n",
       "       [104,   1],\n",
       "       [ 15,   0],\n",
       "       [ 97,   0],\n",
       "       [ 17,   1],\n",
       "       [ 78,   1],\n",
       "       [ 16,   1],\n",
       "       [101,   1],\n",
       "       [ 36,   0],\n",
       "       [ 97,   0],\n",
       "       [ 17,   0],\n",
       "       [ 99,   0],\n",
       "       [ 44,   0],\n",
       "       [109,   1],\n",
       "       [ 27,   1],\n",
       "       [ 77,   1],\n",
       "       [ 20,   0],\n",
       "       [ 96,   0],\n",
       "       [ 26,   0],\n",
       "       [ 78,   1],\n",
       "       [  9,   1],\n",
       "       [102,   0],\n",
       "       [ 18,   0],\n",
       "       [ 89,   0],\n",
       "       [ 32,   0],\n",
       "       [ 83,   1],\n",
       "       [ 21,   1],\n",
       "       [ 93,   1]], dtype=int64)"
      ]
     },
     "execution_count": 112,
     "metadata": {},
     "output_type": "execute_result"
    }
   ],
   "source": [
    "# clustering using sex \n",
    "y=df.iloc[0:,4].values.reshape(-1,1)\n",
    "z=df.iloc[0:,1].values.reshape(-1,1)\n",
    "x=np.concatenate([y,z],axis=1)\n",
    "x"
   ]
  },
  {
   "cell_type": "code",
   "execution_count": 113,
   "id": "6dbc7e30",
   "metadata": {},
   "outputs": [
    {
     "name": "stderr",
     "output_type": "stream",
     "text": [
      "C:\\Users\\91630\\anaconda3\\lib\\site-packages\\sklearn\\cluster\\_kmeans.py:1036: UserWarning: KMeans is known to have a memory leak on Windows with MKL, when there are less chunks than available threads. You can avoid it by setting the environment variable OMP_NUM_THREADS=1.\n",
      "  warnings.warn(\n"
     ]
    }
   ],
   "source": [
    "from sklearn.cluster import KMeans\n",
    "wcss=[]\n",
    "for i in range(1,11):\n",
    "    kmeans=KMeans(n_clusters=i,init='k-means++',random_state=21)\n",
    "    kmeans.fit(x)\n",
    "    wcss.append(kmeans.inertia_)"
   ]
  },
  {
   "cell_type": "code",
   "execution_count": 114,
   "id": "ca5fdbf5",
   "metadata": {},
   "outputs": [
    {
     "data": {
      "text/plain": [
       "[<matplotlib.lines.Line2D at 0x25f77cec2b0>]"
      ]
     },
     "execution_count": 114,
     "metadata": {},
     "output_type": "execute_result"
    },
    {
     "data": {
      "image/png": "[encoded data removed]",
      "text/plain": [
       "<Figure size 432x288 with 1 Axes>"
      ]
     },
     "metadata": {
      "needs_background": "light"
     },
     "output_type": "display_data"
    }
   ],
   "source": [
    "plt.plot(range(1,11),wcss)"
   ]
  },
  {
   "cell_type": "code",
   "execution_count": 115,
   "id": "60981107",
   "metadata": {},
   "outputs": [
    {
     "data": {
      "text/plain": [
       "array([0, 1, 2, 1, 0, 1, 2, 1, 2, 1, 2, 1, 2, 1, 2, 1, 0, 1, 2, 1, 0, 1,\n",
       "       2, 1, 2, 1, 2, 0, 2, 1, 2, 1, 2, 1, 2, 1, 2, 1, 2, 1, 0, 1, 0, 0,\n",
       "       2, 0, 0, 0, 0, 0, 0, 0, 0, 0, 0, 0, 0, 0, 0, 0, 0, 0, 0, 0, 0, 0,\n",
       "       0, 0, 0, 0, 0, 0, 0, 0, 0, 0, 0, 0, 0, 0, 0, 0, 0, 0, 0, 0, 0, 0,\n",
       "       0, 0, 0, 0, 0, 0, 0, 0, 0, 0, 0, 0, 0, 0, 0, 0, 0, 0, 0, 0, 0, 0,\n",
       "       0, 0, 0, 0, 0, 0, 0, 0, 0, 0, 0, 0, 0, 1, 2, 1, 0, 1, 2, 1, 2, 1,\n",
       "       0, 1, 2, 1, 2, 1, 2, 1, 2, 1, 0, 1, 2, 1, 0, 1, 2, 1, 2, 1, 2, 1,\n",
       "       2, 1, 2, 1, 2, 1, 0, 1, 2, 1, 2, 1, 2, 1, 2, 0, 2, 1, 2, 1, 2, 1,\n",
       "       2, 1, 2, 1, 2, 1, 2, 1, 0, 1, 2, 1, 2, 1, 2, 1, 2, 1, 2, 1, 2, 1,\n",
       "       2, 1])"
      ]
     },
     "execution_count": 115,
     "metadata": {},
     "output_type": "execute_result"
    }
   ],
   "source": [
    "kmeans=KMeans(n_clusters=3,init='k-means++',random_state=21)\n",
    "y_means=kmeans.fit_predict(x)\n",
    "y_means"
   ]
  },
  {
   "cell_type": "code",
   "execution_count": 116,
   "id": "91474086",
   "metadata": {},
   "outputs": [
    {
     "data": {
      "text/plain": [
       "Text(0, 0.5, 'rating')"
      ]
     },
     "execution_count": 116,
     "metadata": {},
     "output_type": "execute_result"
    },
    {
     "data": {
      "image/png": "[encoded data removed]",
      "text/plain": [
       "<Figure size 432x288 with 1 Axes>"
      ]
     },
     "metadata": {
      "needs_background": "light"
     },
     "output_type": "display_data"
    }
   ],
   "source": [
    "plt.scatter(x[y_means==0,0],x[y_means==0,1],color='magenta',label='cluster1')\n",
    "plt.scatter(x[y_means==1,0],x[y_means==1,1],color='b',label='cluster2')\n",
    "plt.scatter(x[y_means==2,0],x[y_means==2,1],color='r',label='cluster3')\n",
    "plt.scatter(x[y_means==3,0],x[y_means==3,1],color='cyan',label='cluster4')\n",
    "plt.scatter(kmeans.cluster_centers_[:,0],kmeans.cluster_centers_[:,1],s=300)\n",
    "plt.xlabel(\"Income\")\n",
    "plt.ylabel(\"rating\")"
   ]
  },
  {
   "cell_type": "code",
   "execution_count": null,
   "id": "27b4ae93",
   "metadata": {},
   "outputs": [],
   "source": []
  },
  {
   "cell_type": "code",
   "execution_count": null,
   "id": "93bf6e75",
   "metadata": {},
   "outputs": [],
   "source": []
  },
  {
   "cell_type": "code",
   "execution_count": null,
   "id": "77192db9",
   "metadata": {},
   "outputs": [],
   "source": []
  },
  {
   "cell_type": "code",
   "execution_count": null,
   "id": "7f4835cd",
   "metadata": {},
   "outputs": [],
   "source": []
  },
  {
   "cell_type": "code",
   "execution_count": null,
   "id": "ba431efd",
   "metadata": {},
   "outputs": [],
   "source": []
  },
  {
   "cell_type": "code",
   "execution_count": null,
   "id": "9a008463",
   "metadata": {},
   "outputs": [],
   "source": []
  },
  {
   "cell_type": "code",
   "execution_count": null,
   "id": "b28f6dc0",
   "metadata": {},
   "outputs": [],
   "source": []
  },
  {
   "cell_type": "code",
   "execution_count": null,
   "id": "bcdb753f",
   "metadata": {},
   "outputs": [],
   "source": []
  },
  {
   "cell_type": "code",
   "execution_count": null,
   "id": "3fe2dccf",
   "metadata": {},
   "outputs": [],
   "source": []
  },
  {
   "cell_type": "code",
   "execution_count": null,
   "id": "2468fd3c",
   "metadata": {},
   "outputs": [],
   "source": []
  },
  {
   "cell_type": "code",
   "execution_count": null,
   "id": "7543ffb7",
   "metadata": {},
   "outputs": [],
   "source": []
  },
  {
   "cell_type": "code",
   "execution_count": null,
   "id": "5ab93fcf",
   "metadata": {},
   "outputs": [],
   "source": []
  },
  {
   "cell_type": "code",
   "execution_count": null,
   "id": "7cfd4bac",
   "metadata": {},
   "outputs": [],
   "source": []
  }
 ],
 "metadata": {
  "kernelspec": {
   "display_name": "Python 3 (ipykernel)",
   "language": "python",
   "name": "python3"
  },
  "language_info": {
   "codemirror_mode": {
    "name": "ipython",
    "version": 3
   },
   "file_extension": ".py",
   "mimetype": "text/x-python",
   "name": "python",
   "nbconvert_exporter": "python",
   "pygments_lexer": "ipython3",
   "version": "3.9.12"
  }
 },
 "nbformat": 4,
 "nbformat_minor": 5
}
